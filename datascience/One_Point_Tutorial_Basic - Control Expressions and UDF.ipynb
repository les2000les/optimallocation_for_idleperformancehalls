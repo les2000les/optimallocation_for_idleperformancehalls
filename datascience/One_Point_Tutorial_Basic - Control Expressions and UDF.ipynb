{
 "cells": [
  {
   "attachments": {},
   "cell_type": "markdown",
   "metadata": {},
   "source": [
    "### ㅁOne Point Tutorial Basic II\n",
    "## `Collection, Control Statement and UDF`\n",
    "<p style='text-align: right;'> 빅데이터 분석 중고급과정 with 관악구, KMR</p>\n",
    "<p style='text-align: right;'> 2023 2nd | All rights reserved by Wooseok Song</p>\n",
    "\n",
    "---"
   ]
  },
  {
   "attachments": {},
   "cell_type": "markdown",
   "metadata": {},
   "source": [
    "# Contents\n",
    "<font color=\"green\">**1. About Type of Collections**<font><br>\n",
    "<font color=\"green\">**2. About Control Statements**<font><br>\n",
    "<font color=\"green\">**3. About UDF**<font><br>\n",
    "<br>\n",
    "    \n",
    "---"
   ]
  },
  {
   "attachments": {},
   "cell_type": "markdown",
   "metadata": {},
   "source": [
    "# 1. About Collection Type\n",
    "변수의 **atomic class**에 대해 배웠다면, 실질적으로 우리가 데이터를 처리할 때 다루게 될 변수형에 대해 알아보자. <br>\n",
    "<br>\n",
    "데이터 사이언스의 재료로 사용하게 될 데이터는 값 하나하나를 대상으로 할 경우도 있지만 일반적으로 흔히 이야기 하는 벡터 혹은 행과 열을 갖고 있는 매트릭스 형태를 대상으로 하게 된다.<br>\n",
    "또한 종종 생활기록부나 인적사항 및 병원 차트 형태의 데이터를 다뤄야 할 경우도 있다.<br>\n",
    "이 경우 모아둔 데이터의 특정 부분을 어떻게 호출하고 가공 할 수 있을까?<br>\n",
    "<br>\n",
    "컬렉션 자료형은, 심플한 단일 변수 뿐만 아니라 위에서 이야기 한 여러 데이터들을 구조적으로 모아두고 인덱스를 통해 각기 접근이 가능하도록 만들어둔 일종의 데이터 컨테이너로서 실질적인 데이터 사이언스를 수행하기 위한 가장 중요한 변수의 형태이다.\n",
    "<br>\n",
    "기본적인 컬렉션을 포함하여 특정 라이브러리에서 제공하는 객체형의 경우 생성, 접근, 변경, 삽입, 삭제, 탐색 및 정렬 등의 기능을 통해 우리가 원하는 형태로 데이터를 가공 할 수 있으며, 이번 강의를 통해 컬렉션의 처리에 대해 배워보도록 하자."
   ]
  },
  {
   "attachments": {},
   "cell_type": "markdown",
   "metadata": {},
   "source": [
    "### Type of Collection\n",
    "1. List\n",
    "2. Tuple\n",
    "3. Set\n",
    "4. Dictionary"
   ]
  },
  {
   "attachments": {},
   "cell_type": "markdown",
   "metadata": {},
   "source": [
    "## 1.1. List\n",
    "리스트는 모든 변경 가능성을 고려한(mutable) 가장 기본적인 컬렉션이나, 이를 위하여 메모리를 효율적으로 사용하지 못했다는 단점이 있다.\n",
    "리스트를 구성하는 원소로는\n",
    "숫자, 문자 및 리스트 등이 복합적으로 사용될 수 있다.<br>\n",
    "생성에는 double angle bracket(square bracket) [ ]을 사용한다."
   ]
  },
  {
   "attachments": {},
   "cell_type": "markdown",
   "metadata": {},
   "source": [
    "### 1.1.1. 생성"
   ]
  },
  {
   "cell_type": "code",
   "execution_count": 1,
   "metadata": {},
   "outputs": [
    {
     "name": "stdout",
     "output_type": "stream",
     "text": [
      "<class 'list'> \n",
      "\n"
     ]
    }
   ],
   "source": [
    "# 빈 객체 생성\n",
    "list_1 = [] \n",
    "\n",
    "# 정수형 객체 생성\n",
    "list_2 = [2019, 2020, 2021] \n",
    "\n",
    "# 문자형 객체 생성\n",
    "list_3 = [\"인공지능\", 'AI'] \n",
    "\n",
    "# 문자 & 숫자 객체 생성\n",
    "list_4 = [\"R과\", \"파이썬으로\", \"배우는\", 'Data', 'Science', 2020] \n",
    "\n",
    "# 문자, 숫자, 리스트 객체 생성\n",
    "list_5 = [\"R과\", \"파이썬으로\", \"배우는\", 'Data', 'Science', '2020', [\"인공지능\", 'AI']]\n",
    "\n",
    "# 문자, 숫자, 리스트 오브젝트 객체 생성\n",
    "list_6 = [\"R과\", \"파이썬으로\", \"배우는\", 'Data', 'Science', '2020', list_3]\n",
    "\n",
    "# 리스트의 타입은?\n",
    "print(type(list_1), '\\n') "
   ]
  },
  {
   "attachments": {},
   "cell_type": "markdown",
   "metadata": {},
   "source": [
    "만들어진 컬렉션 객체들의 값을 보자."
   ]
  },
  {
   "cell_type": "code",
   "execution_count": 2,
   "metadata": {},
   "outputs": [
    {
     "name": "stdout",
     "output_type": "stream",
     "text": [
      "list_1 =  []\n",
      "list_2 =  [2019, 2020, 2021]\n",
      "list_3 =  ['인공지능', 'AI']\n",
      "list_4 =  ['R과', '파이썬으로', '배우는', 'Data', 'Science', 2020]\n",
      "list_5 =  ['R과', '파이썬으로', '배우는', 'Data', 'Science', '2020', ['인공지능', 'AI']]\n",
      "list_6 =  ['R과', '파이썬으로', '배우는', 'Data', 'Science', '2020', ['인공지능', 'AI']] \n",
      "\n"
     ]
    }
   ],
   "source": [
    "print('list_1 = ', list_1)\n",
    "print('list_2 = ', list_2)\n",
    "print('list_3 = ', list_3)\n",
    "print('list_4 = ', list_4)\n",
    "print('list_5 = ', list_5)\n",
    "print('list_6 = ', list_6, '\\n')"
   ]
  },
  {
   "attachments": {},
   "cell_type": "markdown",
   "metadata": {},
   "source": [
    "이쯤에서 퀴즈 하나.<br>\n",
    "list_5와 list_6는 같은 것일까?"
   ]
  },
  {
   "cell_type": "code",
   "execution_count": 3,
   "metadata": {},
   "outputs": [
    {
     "name": "stdout",
     "output_type": "stream",
     "text": [
      "Are the list_5 and the list_6 same? : True\n"
     ]
    }
   ],
   "source": [
    "#### Type Your Code ####\n",
    "print('Are the list_5 and the list_6 same? :', list_5 == list_6)"
   ]
  },
  {
   "attachments": {},
   "cell_type": "markdown",
   "metadata": {},
   "source": [
    "이번에는 0~5까지의 6가지 정수 원소를 갖는 리스트를 만들어보자."
   ]
  },
  {
   "attachments": {},
   "cell_type": "markdown",
   "metadata": {},
   "source": [
    "##### 방법 1"
   ]
  },
  {
   "cell_type": "code",
   "execution_count": 4,
   "metadata": {},
   "outputs": [
    {
     "data": {
      "text/plain": [
       "[0, 1, 2, 3, 4, 5]"
      ]
     },
     "execution_count": 4,
     "metadata": {},
     "output_type": "execute_result"
    }
   ],
   "source": [
    "list_7 = [0, 1, 2, 3, 4, 5]\n",
    "list_7"
   ]
  },
  {
   "attachments": {},
   "cell_type": "markdown",
   "metadata": {},
   "source": [
    "##### 방법 2 "
   ]
  },
  {
   "cell_type": "code",
   "execution_count": 10,
   "metadata": {},
   "outputs": [
    {
     "data": {
      "text/plain": [
       "[0, 1, 2, 3, 4, 5]"
      ]
     },
     "execution_count": 10,
     "metadata": {},
     "output_type": "execute_result"
    }
   ],
   "source": [
    "list_8 = list(range(6))\n",
    "list_8"
   ]
  },
  {
   "attachments": {},
   "cell_type": "markdown",
   "metadata": {},
   "source": [
    "##### 방법 3 "
   ]
  },
  {
   "cell_type": "code",
   "execution_count": 11,
   "metadata": {},
   "outputs": [
    {
     "data": {
      "text/plain": [
       "[0, 1, 2, 3, 4, 5]"
      ]
     },
     "execution_count": 11,
     "metadata": {},
     "output_type": "execute_result"
    }
   ],
   "source": [
    "list_9 = []\n",
    "\n",
    "for i in range(6):\n",
    "    list_9.append(i)\n",
    "\n",
    "list_9"
   ]
  },
  {
   "attachments": {},
   "cell_type": "markdown",
   "metadata": {},
   "source": [
    "##### 방법 4 "
   ]
  },
  {
   "cell_type": "code",
   "execution_count": 5,
   "metadata": {},
   "outputs": [
    {
     "data": {
      "text/plain": [
       "[0, 1, 2, 3, 4, 5]"
      ]
     },
     "execution_count": 5,
     "metadata": {},
     "output_type": "execute_result"
    }
   ],
   "source": [
    "list_10 = [i for i in range(6)]\n",
    "list_10"
   ]
  },
  {
   "attachments": {},
   "cell_type": "markdown",
   "metadata": {},
   "source": [
    "##### 방법5"
   ]
  },
  {
   "cell_type": "code",
   "execution_count": 6,
   "metadata": {},
   "outputs": [
    {
     "name": "stdout",
     "output_type": "stream",
     "text": [
      "['0', '1', '2', '3', '4', '5'] \n",
      "\n",
      "[0, 1, 2, 3, 4, 5]\n"
     ]
    }
   ],
   "source": [
    "list_11 = list('012345')\n",
    "print(list_11, '\\n')\n",
    "\n",
    "list_12 = list(map(int, list_11))\n",
    "print(list_12)"
   ]
  },
  {
   "attachments": {},
   "cell_type": "markdown",
   "metadata": {},
   "source": [
    "##### 방법 5"
   ]
  },
  {
   "cell_type": "code",
   "execution_count": 12,
   "metadata": {},
   "outputs": [
    {
     "data": {
      "text/plain": [
       "<range_iterator at 0x268fa5b8fd0>"
      ]
     },
     "execution_count": 12,
     "metadata": {},
     "output_type": "execute_result"
    }
   ],
   "source": [
    "# 역순으로 출력하기\n",
    "reversed(range(6))"
   ]
  },
  {
   "cell_type": "code",
   "execution_count": 14,
   "metadata": {},
   "outputs": [
    {
     "data": {
      "text/plain": [
       "[9, 8, 7, 6, 5, 4, 3, 2, 1, 0]"
      ]
     },
     "execution_count": 14,
     "metadata": {},
     "output_type": "execute_result"
    }
   ],
   "source": [
    "#### Type Your Code ####\n",
    "# 0부터 9까지를 element로 갖는 리스트를 for list comprehension을 사용하여 역순으로 객체 list_13에 할당하여 출력하라. \n",
    "# list_13 = [i for i in reversed(range(10))]\n",
    "# list_13\n",
    "list_13 = [i for i in reversed(range(10))]\n",
    "list_13\n",
    "########################"
   ]
  },
  {
   "attachments": {},
   "cell_type": "markdown",
   "metadata": {},
   "source": [
    "### 1.1.2. 접근"
   ]
  },
  {
   "cell_type": "code",
   "execution_count": 1,
   "metadata": {
    "scrolled": true
   },
   "outputs": [
    {
     "name": "stdout",
     "output_type": "stream",
     "text": [
      "[0, 1, 2, 3, 4, 5]\n"
     ]
    }
   ],
   "source": [
    "list_13 = list(range(6))\n",
    "print(list_13)"
   ]
  },
  {
   "attachments": {},
   "cell_type": "markdown",
   "metadata": {},
   "source": [
    "첫 번째 원소에 접근하기"
   ]
  },
  {
   "cell_type": "code",
   "execution_count": 7,
   "metadata": {},
   "outputs": [
    {
     "data": {
      "text/plain": [
       "0"
      ]
     },
     "execution_count": 7,
     "metadata": {},
     "output_type": "execute_result"
    }
   ],
   "source": [
    "list_13[0]"
   ]
  },
  {
   "attachments": {},
   "cell_type": "markdown",
   "metadata": {},
   "source": [
    "두 번째 부터 세 번째 원소에 접근하기"
   ]
  },
  {
   "attachments": {},
   "cell_type": "markdown",
   "metadata": {},
   "source": [
    "##### 방법 1 "
   ]
  },
  {
   "cell_type": "code",
   "execution_count": 8,
   "metadata": {},
   "outputs": [
    {
     "data": {
      "text/plain": [
       "[1, 2]"
      ]
     },
     "execution_count": 8,
     "metadata": {},
     "output_type": "execute_result"
    }
   ],
   "source": [
    "list_13[1:3]"
   ]
  },
  {
   "attachments": {},
   "cell_type": "markdown",
   "metadata": {},
   "source": [
    "!!! 개구간, 폐구간, 개폐구간 "
   ]
  },
  {
   "attachments": {},
   "cell_type": "markdown",
   "metadata": {},
   "source": [
    "#### 방법 2 "
   ]
  },
  {
   "cell_type": "code",
   "execution_count": 9,
   "metadata": {},
   "outputs": [
    {
     "data": {
      "text/plain": [
       "[1, 2]"
      ]
     },
     "execution_count": 9,
     "metadata": {},
     "output_type": "execute_result"
    }
   ],
   "source": [
    "[list_13[i] for i in [1, 2]]"
   ]
  },
  {
   "attachments": {},
   "cell_type": "markdown",
   "metadata": {},
   "source": [
    "첫 번째, 네 번째 원소에 접근하기"
   ]
  },
  {
   "cell_type": "code",
   "execution_count": 10,
   "metadata": {},
   "outputs": [
    {
     "data": {
      "text/plain": [
       "[0, 3]"
      ]
     },
     "execution_count": 10,
     "metadata": {},
     "output_type": "execute_result"
    }
   ],
   "source": [
    "[list_13[i] for i in [0, 3]]"
   ]
  },
  {
   "attachments": {},
   "cell_type": "markdown",
   "metadata": {},
   "source": [
    "### 1.1.3. 변경"
   ]
  },
  {
   "attachments": {},
   "cell_type": "markdown",
   "metadata": {},
   "source": [
    "첫 번째 원소 값을 100으로 바꾸기"
   ]
  },
  {
   "cell_type": "code",
   "execution_count": 11,
   "metadata": {},
   "outputs": [
    {
     "data": {
      "text/plain": [
       "[100, 1, 2, 3, 4, 5]"
      ]
     },
     "execution_count": 11,
     "metadata": {},
     "output_type": "execute_result"
    }
   ],
   "source": [
    "list_13[0] = 100\n",
    "list_13"
   ]
  },
  {
   "attachments": {},
   "cell_type": "markdown",
   "metadata": {},
   "source": [
    "두 번째 원소 값을 1000으로 바꾸기"
   ]
  },
  {
   "attachments": {},
   "cell_type": "markdown",
   "metadata": {},
   "source": [
    "#### 방법 1"
   ]
  },
  {
   "cell_type": "code",
   "execution_count": 12,
   "metadata": {},
   "outputs": [
    {
     "data": {
      "text/plain": [
       "[100, 1000, 2, 3, 4, 5]"
      ]
     },
     "execution_count": 12,
     "metadata": {},
     "output_type": "execute_result"
    }
   ],
   "source": [
    "list_13[1] = 1000\n",
    "list_13"
   ]
  },
  {
   "attachments": {},
   "cell_type": "markdown",
   "metadata": {},
   "source": [
    "#### 방법 2"
   ]
  },
  {
   "cell_type": "code",
   "execution_count": 13,
   "metadata": {},
   "outputs": [
    {
     "data": {
      "text/plain": [
       "[100, 1000, 2, 3, 4, 5]"
      ]
     },
     "execution_count": 13,
     "metadata": {},
     "output_type": "execute_result"
    }
   ],
   "source": [
    "list_13[1:2] = [1000]\n",
    "list_13"
   ]
  },
  {
   "attachments": {},
   "cell_type": "markdown",
   "metadata": {},
   "source": [
    "세 번째, 네 번째 원소를 2000으로 변경하기"
   ]
  },
  {
   "cell_type": "code",
   "execution_count": 14,
   "metadata": {},
   "outputs": [
    {
     "data": {
      "text/plain": [
       "[100, 1000, 2000, 4, 5]"
      ]
     },
     "execution_count": 14,
     "metadata": {},
     "output_type": "execute_result"
    }
   ],
   "source": [
    "list_13[2:4] = [2000]\n",
    "list_13"
   ]
  },
  {
   "attachments": {},
   "cell_type": "markdown",
   "metadata": {},
   "source": [
    "왜 이런 현상이 벌어진 걸까?"
   ]
  },
  {
   "cell_type": "code",
   "execution_count": 15,
   "metadata": {},
   "outputs": [
    {
     "name": "stdout",
     "output_type": "stream",
     "text": [
      "[0, 1000, 1000, 3, 4, 5]\n",
      "[0, 2000, 2000, 3, 4, 5]\n"
     ]
    }
   ],
   "source": [
    "list_14 = list(range(6))\n",
    "list_14[1:3] = 1000, 1000\n",
    "print(list_14)\n",
    "\n",
    "list_14[1:3] = [2000, 2000]\n",
    "print(list_14)"
   ]
  },
  {
   "attachments": {},
   "cell_type": "markdown",
   "metadata": {},
   "source": [
    "NumPy와 Pandas 객체에서도 동일하게 사용되는 다양한 indexing/slicing 방법들이 있으니, 뒤에서 더 다뤄보도록 하자."
   ]
  },
  {
   "attachments": {},
   "cell_type": "markdown",
   "metadata": {},
   "source": [
    "### 1.1.4. 삽입"
   ]
  },
  {
   "cell_type": "code",
   "execution_count": 16,
   "metadata": {},
   "outputs": [
    {
     "name": "stdout",
     "output_type": "stream",
     "text": [
      "[0, 1, 2, 3, 4, 5]\n"
     ]
    },
    {
     "data": {
      "text/plain": [
       "[0, 1, 2, 3, 4, 5, 6]"
      ]
     },
     "execution_count": 16,
     "metadata": {},
     "output_type": "execute_result"
    }
   ],
   "source": [
    "list_15 = [0, 1, 2, 3, 4, 5]\n",
    "print(list_15)\n",
    "list_15.append(6)\n",
    "list_15"
   ]
  },
  {
   "cell_type": "code",
   "execution_count": 20,
   "metadata": {},
   "outputs": [
    {
     "data": {
      "text/plain": [
       "[0, 1, 2, 3, 4, 5, 6, 7]"
      ]
     },
     "execution_count": 20,
     "metadata": {},
     "output_type": "execute_result"
    }
   ],
   "source": [
    "list_15 = list_15 + [7]\n",
    "list_15"
   ]
  },
  {
   "cell_type": "code",
   "execution_count": 21,
   "metadata": {},
   "outputs": [
    {
     "data": {
      "text/plain": [
       "[-1, 0, 1, 2, 3, 4, 5, 6, 7]"
      ]
     },
     "execution_count": 21,
     "metadata": {},
     "output_type": "execute_result"
    }
   ],
   "source": [
    "list_15 = [-1] + list_15\n",
    "list_15"
   ]
  },
  {
   "cell_type": "code",
   "execution_count": 22,
   "metadata": {},
   "outputs": [
    {
     "data": {
      "text/plain": [
       "[-1, 0, 1, 2, 3, 4, 5, 6, 7, 1]"
      ]
     },
     "execution_count": 22,
     "metadata": {},
     "output_type": "execute_result"
    }
   ],
   "source": [
    "list_15 += [1]\n",
    "list_15"
   ]
  },
  {
   "cell_type": "code",
   "execution_count": 23,
   "metadata": {},
   "outputs": [
    {
     "data": {
      "text/plain": [
       "[-1, 0, 1, 1000, 3, 4, 5, 6, 7, 1]"
      ]
     },
     "execution_count": 23,
     "metadata": {},
     "output_type": "execute_result"
    }
   ],
   "source": [
    "list_15 = list_15[0:3] + [1000] + list_15[4:len(list_15)]\n",
    "list_15"
   ]
  },
  {
   "attachments": {},
   "cell_type": "markdown",
   "metadata": {},
   "source": [
    "사칙연산은?"
   ]
  },
  {
   "cell_type": "code",
   "execution_count": 24,
   "metadata": {},
   "outputs": [
    {
     "data": {
      "text/plain": [
       "[-1, 0, 1, 1000, 3, 4, 5, 6, 7, 1, -1, 0, 1, 1000, 3, 4, 5, 6, 7, 1]"
      ]
     },
     "execution_count": 24,
     "metadata": {},
     "output_type": "execute_result"
    }
   ],
   "source": [
    "list_15 + list_15"
   ]
  },
  {
   "cell_type": "code",
   "execution_count": 25,
   "metadata": {},
   "outputs": [
    {
     "data": {
      "text/plain": [
       "[-1,\n",
       " 0,\n",
       " 1,\n",
       " 1000,\n",
       " 3,\n",
       " 4,\n",
       " 5,\n",
       " 6,\n",
       " 7,\n",
       " 1,\n",
       " -1,\n",
       " 0,\n",
       " 1,\n",
       " 1000,\n",
       " 3,\n",
       " 4,\n",
       " 5,\n",
       " 6,\n",
       " 7,\n",
       " 1,\n",
       " -1,\n",
       " 0,\n",
       " 1,\n",
       " 1000,\n",
       " 3,\n",
       " 4,\n",
       " 5,\n",
       " 6,\n",
       " 7,\n",
       " 1]"
      ]
     },
     "execution_count": 25,
     "metadata": {},
     "output_type": "execute_result"
    }
   ],
   "source": [
    "3 * list_15"
   ]
  },
  {
   "cell_type": "code",
   "execution_count": 26,
   "metadata": {},
   "outputs": [],
   "source": [
    "# list_15 - list_15와 list_15/list_15는 불가"
   ]
  },
  {
   "attachments": {},
   "cell_type": "markdown",
   "metadata": {},
   "source": [
    "### 1.1.5. 삭제"
   ]
  },
  {
   "attachments": {},
   "cell_type": "markdown",
   "metadata": {},
   "source": [
    "#### remove "
   ]
  },
  {
   "cell_type": "code",
   "execution_count": 32,
   "metadata": {},
   "outputs": [
    {
     "data": {
      "text/plain": [
       "[-1, 0, 1, 2, 2, 3, 4, 5, 6]"
      ]
     },
     "execution_count": 32,
     "metadata": {},
     "output_type": "execute_result"
    }
   ],
   "source": [
    "list_16 = [-1, 0, 1, 2, 2, 3, 4, 5, 6]\n",
    "list_16"
   ]
  },
  {
   "attachments": {},
   "cell_type": "markdown",
   "metadata": {},
   "source": [
    "숫자 2를 지워보자."
   ]
  },
  {
   "cell_type": "code",
   "execution_count": 28,
   "metadata": {},
   "outputs": [
    {
     "data": {
      "text/plain": [
       "[-1, 0, 1, 2, 3, 4, 5, 6]"
      ]
     },
     "execution_count": 28,
     "metadata": {},
     "output_type": "execute_result"
    }
   ],
   "source": [
    "list_16.remove(2)\n",
    "list_16"
   ]
  },
  {
   "attachments": {},
   "cell_type": "markdown",
   "metadata": {},
   "source": [
    "한 번 더 지워보자."
   ]
  },
  {
   "cell_type": "code",
   "execution_count": 35,
   "metadata": {},
   "outputs": [
    {
     "ename": "ValueError",
     "evalue": "list.remove(x): x not in list",
     "output_type": "error",
     "traceback": [
      "\u001b[0;31m---------------------------------------------------------------------------\u001b[0m",
      "\u001b[0;31mValueError\u001b[0m                                Traceback (most recent call last)",
      "\u001b[0;32m<ipython-input-35-83ba08734273>\u001b[0m in \u001b[0;36m<module>\u001b[0;34m\u001b[0m\n\u001b[0;32m----> 1\u001b[0;31m \u001b[0mlist_16\u001b[0m\u001b[0;34m.\u001b[0m\u001b[0mremove\u001b[0m\u001b[0;34m(\u001b[0m\u001b[0;36m2\u001b[0m\u001b[0;34m)\u001b[0m\u001b[0;34m\u001b[0m\u001b[0;34m\u001b[0m\u001b[0m\n\u001b[0m\u001b[1;32m      2\u001b[0m \u001b[0mlist_16\u001b[0m\u001b[0;34m\u001b[0m\u001b[0;34m\u001b[0m\u001b[0m\n",
      "\u001b[0;31mValueError\u001b[0m: list.remove(x): x not in list"
     ]
    }
   ],
   "source": [
    "list_16.remove(2)\n",
    "list_16"
   ]
  },
  {
   "attachments": {},
   "cell_type": "markdown",
   "metadata": {},
   "source": [
    "#### pop "
   ]
  },
  {
   "attachments": {},
   "cell_type": "markdown",
   "metadata": {},
   "source": [
    "맨 처음으로 돌아가서, 세 번째 원소를 지워보자."
   ]
  },
  {
   "cell_type": "code",
   "execution_count": 36,
   "metadata": {},
   "outputs": [
    {
     "data": {
      "text/plain": [
       "[-1, 0, 1, 2, 2, 3, 4, 5, 6]"
      ]
     },
     "execution_count": 36,
     "metadata": {},
     "output_type": "execute_result"
    }
   ],
   "source": [
    "list_17 = [-1, 0, 1, 2, 2, 3, 4, 5, 6]\n",
    "list_17"
   ]
  },
  {
   "cell_type": "code",
   "execution_count": 37,
   "metadata": {},
   "outputs": [
    {
     "data": {
      "text/plain": [
       "1"
      ]
     },
     "execution_count": 37,
     "metadata": {},
     "output_type": "execute_result"
    }
   ],
   "source": [
    "list_17.pop(2)"
   ]
  },
  {
   "cell_type": "code",
   "execution_count": 38,
   "metadata": {},
   "outputs": [
    {
     "data": {
      "text/plain": [
       "[-1, 0, 2, 2, 3, 4, 5, 6]"
      ]
     },
     "execution_count": 38,
     "metadata": {},
     "output_type": "execute_result"
    }
   ],
   "source": [
    "list_17"
   ]
  },
  {
   "attachments": {},
   "cell_type": "markdown",
   "metadata": {},
   "source": [
    "한 번 더 해보자."
   ]
  },
  {
   "cell_type": "code",
   "execution_count": 51,
   "metadata": {},
   "outputs": [
    {
     "ename": "IndexError",
     "evalue": "pop index out of range",
     "output_type": "error",
     "traceback": [
      "\u001b[0;31m---------------------------------------------------------------------------\u001b[0m",
      "\u001b[0;31mIndexError\u001b[0m                                Traceback (most recent call last)",
      "\u001b[0;32m<ipython-input-51-e38b45fbdb97>\u001b[0m in \u001b[0;36m<module>\u001b[0;34m\u001b[0m\n\u001b[0;32m----> 1\u001b[0;31m \u001b[0mlist_17\u001b[0m\u001b[0;34m.\u001b[0m\u001b[0mpop\u001b[0m\u001b[0;34m(\u001b[0m\u001b[0;36m2\u001b[0m\u001b[0;34m)\u001b[0m\u001b[0;34m\u001b[0m\u001b[0;34m\u001b[0m\u001b[0m\n\u001b[0m",
      "\u001b[0;31mIndexError\u001b[0m: pop index out of range"
     ]
    }
   ],
   "source": [
    "list_17.pop(2)"
   ]
  },
  {
   "cell_type": "code",
   "execution_count": 52,
   "metadata": {},
   "outputs": [
    {
     "data": {
      "text/plain": [
       "[-1, 0]"
      ]
     },
     "execution_count": 52,
     "metadata": {},
     "output_type": "execute_result"
    }
   ],
   "source": [
    "list_17"
   ]
  },
  {
   "attachments": {},
   "cell_type": "markdown",
   "metadata": {},
   "source": [
    "#### del "
   ]
  },
  {
   "attachments": {},
   "cell_type": "markdown",
   "metadata": {},
   "source": [
    "이번에도 pop과 같이 세 번째 원소를 지워보자."
   ]
  },
  {
   "cell_type": "code",
   "execution_count": 70,
   "metadata": {},
   "outputs": [
    {
     "data": {
      "text/plain": [
       "[-1, 0, 1, 2, 2, 3, 4, 5, 6]"
      ]
     },
     "execution_count": 70,
     "metadata": {},
     "output_type": "execute_result"
    }
   ],
   "source": [
    "list_18 = [-1, 0, 1, 2, 2, 3, 4, 5, 6]\n",
    "list_18"
   ]
  },
  {
   "cell_type": "code",
   "execution_count": 67,
   "metadata": {},
   "outputs": [
    {
     "data": {
      "text/plain": [
       "[-1, 0, 2, 2, 3, 4, 5, 6]"
      ]
     },
     "execution_count": 67,
     "metadata": {},
     "output_type": "execute_result"
    }
   ],
   "source": [
    "del list_18[2]\n",
    "list_18"
   ]
  },
  {
   "attachments": {},
   "cell_type": "markdown",
   "metadata": {},
   "source": [
    "좋은 건 한 번 더.."
   ]
  },
  {
   "cell_type": "code",
   "execution_count": 68,
   "metadata": {},
   "outputs": [
    {
     "data": {
      "text/plain": [
       "[-1, 0, 2, 3, 4, 5, 6]"
      ]
     },
     "execution_count": 68,
     "metadata": {},
     "output_type": "execute_result"
    }
   ],
   "source": [
    "del list_18[2]\n",
    "list_18"
   ]
  },
  {
   "attachments": {},
   "cell_type": "markdown",
   "metadata": {},
   "source": [
    "인덱서에 -1을 넣게 되면 어떻게 될까?"
   ]
  },
  {
   "attachments": {},
   "cell_type": "markdown",
   "metadata": {},
   "source": [
    "#### remove with -1"
   ]
  },
  {
   "cell_type": "code",
   "execution_count": 69,
   "metadata": {},
   "outputs": [
    {
     "data": {
      "text/plain": [
       "[0, 1, 2, 2, 3, 4, 5, 6]"
      ]
     },
     "execution_count": 69,
     "metadata": {},
     "output_type": "execute_result"
    }
   ],
   "source": [
    "list_19 = [-1, 0, 1, 2, 2, 3, 4, 5, 6]\n",
    "list_19.remove(-1)\n",
    "list_19"
   ]
  },
  {
   "attachments": {},
   "cell_type": "markdown",
   "metadata": {},
   "source": [
    "#### pop with -1 "
   ]
  },
  {
   "cell_type": "code",
   "execution_count": 71,
   "metadata": {},
   "outputs": [
    {
     "data": {
      "text/plain": [
       "6"
      ]
     },
     "execution_count": 71,
     "metadata": {},
     "output_type": "execute_result"
    }
   ],
   "source": [
    "list_20 = [-1, 0, 1, 2, 2, 3, 4, 5, 6]\n",
    "list_20.pop(-1)"
   ]
  },
  {
   "cell_type": "code",
   "execution_count": 72,
   "metadata": {},
   "outputs": [
    {
     "name": "stdout",
     "output_type": "stream",
     "text": [
      "[-1, 0, 1, 2, 2, 3, 4, 5]\n"
     ]
    }
   ],
   "source": [
    "print(list_20)"
   ]
  },
  {
   "attachments": {},
   "cell_type": "markdown",
   "metadata": {},
   "source": [
    "#### del with -1 "
   ]
  },
  {
   "cell_type": "code",
   "execution_count": 73,
   "metadata": {},
   "outputs": [
    {
     "data": {
      "text/plain": [
       "[-1, 0, 1, 2, 2, 3, 4, 5]"
      ]
     },
     "execution_count": 73,
     "metadata": {},
     "output_type": "execute_result"
    }
   ],
   "source": [
    "list_21 = [-1, 0, 1, 2, 2, 3, 4, 5, 6]\n",
    "del list_21[-1]\n",
    "list_21"
   ]
  },
  {
   "attachments": {},
   "cell_type": "markdown",
   "metadata": {},
   "source": [
    "#### del with -2 "
   ]
  },
  {
   "cell_type": "code",
   "execution_count": 42,
   "metadata": {},
   "outputs": [
    {
     "data": {
      "text/plain": [
       "[-1, 0, 1, 2, 2, 3, 4, 6]"
      ]
     },
     "execution_count": 42,
     "metadata": {},
     "output_type": "execute_result"
    }
   ],
   "source": [
    "list_22 = [-1, 0, 1, 2, 2, 3, 4, 5, 6]\n",
    "del list_22[-2]\n",
    "list_22"
   ]
  },
  {
   "attachments": {},
   "cell_type": "markdown",
   "metadata": {},
   "source": [
    "### 1.1.6. 탐색"
   ]
  },
  {
   "cell_type": "code",
   "execution_count": 74,
   "metadata": {},
   "outputs": [
    {
     "data": {
      "text/plain": [
       "[0, 1, 2, 3, 4, 100]"
      ]
     },
     "execution_count": 74,
     "metadata": {},
     "output_type": "execute_result"
    }
   ],
   "source": [
    "list_23 = [0, 1, 2, 3, 4, 100]\n",
    "list_23"
   ]
  },
  {
   "cell_type": "code",
   "execution_count": 75,
   "metadata": {},
   "outputs": [
    {
     "data": {
      "text/plain": [
       "6"
      ]
     },
     "execution_count": 75,
     "metadata": {},
     "output_type": "execute_result"
    }
   ],
   "source": [
    "# length\n",
    "len(list_23)"
   ]
  },
  {
   "cell_type": "code",
   "execution_count": 76,
   "metadata": {},
   "outputs": [
    {
     "data": {
      "text/plain": [
       "100"
      ]
     },
     "execution_count": 76,
     "metadata": {},
     "output_type": "execute_result"
    }
   ],
   "source": [
    "# Maximum\n",
    "max(list_23)"
   ]
  },
  {
   "cell_type": "code",
   "execution_count": 77,
   "metadata": {},
   "outputs": [
    {
     "data": {
      "text/plain": [
       "0"
      ]
     },
     "execution_count": 77,
     "metadata": {},
     "output_type": "execute_result"
    }
   ],
   "source": [
    "# Minimum\n",
    "min(list_23)"
   ]
  },
  {
   "cell_type": "code",
   "execution_count": 78,
   "metadata": {},
   "outputs": [
    {
     "data": {
      "text/plain": [
       "1"
      ]
     },
     "execution_count": 78,
     "metadata": {},
     "output_type": "execute_result"
    }
   ],
   "source": [
    "# Count\n",
    "list_23.count(100)"
   ]
  },
  {
   "cell_type": "code",
   "execution_count": 48,
   "metadata": {},
   "outputs": [
    {
     "data": {
      "text/plain": [
       "5"
      ]
     },
     "execution_count": 48,
     "metadata": {},
     "output_type": "execute_result"
    }
   ],
   "source": [
    "# Number of Index\n",
    "list_23.index(100)"
   ]
  },
  {
   "attachments": {},
   "cell_type": "markdown",
   "metadata": {},
   "source": [
    "### 1.1.7. 정렬"
   ]
  },
  {
   "cell_type": "code",
   "execution_count": 79,
   "metadata": {},
   "outputs": [
    {
     "data": {
      "text/plain": [
       "[-100, 0, 2, 4, 100, 1000]"
      ]
     },
     "execution_count": 79,
     "metadata": {},
     "output_type": "execute_result"
    }
   ],
   "source": [
    "list_24 = [0, 1000, 2, -100, 4, 100]\n",
    "sorted(list_24)"
   ]
  },
  {
   "cell_type": "code",
   "execution_count": 50,
   "metadata": {},
   "outputs": [
    {
     "data": {
      "text/plain": [
       "[0, 1000, 2, -100, 4, 100]"
      ]
     },
     "execution_count": 50,
     "metadata": {},
     "output_type": "execute_result"
    }
   ],
   "source": [
    "list_24"
   ]
  },
  {
   "cell_type": "code",
   "execution_count": 80,
   "metadata": {},
   "outputs": [],
   "source": [
    "list_24.sort() # 원본 수정"
   ]
  },
  {
   "cell_type": "code",
   "execution_count": 81,
   "metadata": {},
   "outputs": [
    {
     "data": {
      "text/plain": [
       "[1000, 100, 4, 2, 0, -100]"
      ]
     },
     "execution_count": 81,
     "metadata": {},
     "output_type": "execute_result"
    }
   ],
   "source": [
    "list_24"
   ]
  },
  {
   "cell_type": "code",
   "execution_count": 53,
   "metadata": {},
   "outputs": [
    {
     "data": {
      "text/plain": [
       "[1000, 100, 4, 2, 0, -100]"
      ]
     },
     "execution_count": 53,
     "metadata": {},
     "output_type": "execute_result"
    }
   ],
   "source": [
    "list_24 = [0, 1000, 2, -100, 4, 100]\n",
    "sorted(list_24, reverse=True) # 역순"
   ]
  },
  {
   "cell_type": "code",
   "execution_count": 54,
   "metadata": {},
   "outputs": [
    {
     "data": {
      "text/plain": [
       "[1000, 100, 4, 2, 0, -100]"
      ]
     },
     "execution_count": 54,
     "metadata": {},
     "output_type": "execute_result"
    }
   ],
   "source": [
    "sorted(list_24, key = lambda x: -x) # 역순 = -를 취한 것을 기준으로 정렬\n",
    "# 참참고 : lambda는 짧은 방식으로 함수를 정의한 것"
   ]
  },
  {
   "cell_type": "code",
   "execution_count": 55,
   "metadata": {},
   "outputs": [
    {
     "data": {
      "text/plain": [
       "[1000, 100, 4, 2, 0, -100]"
      ]
     },
     "execution_count": 55,
     "metadata": {},
     "output_type": "execute_result"
    }
   ],
   "source": [
    "def minus(x):\n",
    "    return -x\n",
    "sorted(list_24, key = minus)"
   ]
  },
  {
   "attachments": {},
   "cell_type": "markdown",
   "metadata": {},
   "source": [
    "## 1.2. Tuple\n",
    "튜플은 모든 변경 가능성을 배제한(immutable) 컬렉션으로, 메모리를 절약 할 수 있으며 의도치 않은 자료 변경에 따른 불의의 실수를 예방 할 수 있다는 장점이 있다.<br>\n",
    "선언에는 소괄호(round bracket) ( )를 사용하며, 원소가 1개인 튜플의 경우 튜플형임을 명기하기 위하여 원소 옆에 comma(,)를 붙인다.<br>"
   ]
  },
  {
   "attachments": {},
   "cell_type": "markdown",
   "metadata": {},
   "source": [
    "cf. list와 tuple의 1원소 객체형 비교"
   ]
  },
  {
   "cell_type": "code",
   "execution_count": 56,
   "metadata": {},
   "outputs": [
    {
     "name": "stdout",
     "output_type": "stream",
     "text": [
      "<class 'list'>\n",
      "<class 'int'>\n",
      "<class 'tuple'>\n"
     ]
    }
   ],
   "source": [
    "list_single = [1]\n",
    "print(type(list_single))\n",
    "\n",
    "tuple_single_1 = (1)\n",
    "print(type(tuple_single_1))\n",
    "\n",
    "tuple_single_2 = (1,)\n",
    "print(type(tuple_single_2))"
   ]
  },
  {
   "attachments": {},
   "cell_type": "markdown",
   "metadata": {},
   "source": [
    "### 1.2.1. 생성"
   ]
  },
  {
   "attachments": {},
   "cell_type": "markdown",
   "metadata": {},
   "source": [
    "#### 방법 1 "
   ]
  },
  {
   "cell_type": "code",
   "execution_count": 57,
   "metadata": {},
   "outputs": [
    {
     "data": {
      "text/plain": [
       "(0, 1, 2, 3, 4, 5)"
      ]
     },
     "execution_count": 57,
     "metadata": {},
     "output_type": "execute_result"
    }
   ],
   "source": [
    "tuple_1 = (0, 1, 2, 3, 4, 5)\n",
    "tuple_1"
   ]
  },
  {
   "attachments": {},
   "cell_type": "markdown",
   "metadata": {},
   "source": [
    "#### 방법 2"
   ]
  },
  {
   "cell_type": "code",
   "execution_count": 58,
   "metadata": {},
   "outputs": [
    {
     "data": {
      "text/plain": [
       "(0, 1, 2, 3, 4, 5)"
      ]
     },
     "execution_count": 58,
     "metadata": {},
     "output_type": "execute_result"
    }
   ],
   "source": [
    "tuple_2 = tuple(range(6))\n",
    "tuple_2"
   ]
  },
  {
   "attachments": {},
   "cell_type": "markdown",
   "metadata": {},
   "source": [
    "#### 방법 3 "
   ]
  },
  {
   "cell_type": "code",
   "execution_count": 23,
   "metadata": {},
   "outputs": [
    {
     "data": {
      "text/plain": [
       "(0, 1, 2, 3, 4, 5)"
      ]
     },
     "execution_count": 23,
     "metadata": {},
     "output_type": "execute_result"
    }
   ],
   "source": [
    "tuple_3 = tuple(map(int, '0 1 2 3 4 5'.split())) # 리스트에서도 동일한 방법을 적용 할 수 있다.\n",
    "tuple_3"
   ]
  },
  {
   "attachments": {},
   "cell_type": "markdown",
   "metadata": {},
   "source": [
    "### 1.2.2. 접근"
   ]
  },
  {
   "cell_type": "code",
   "execution_count": 28,
   "metadata": {},
   "outputs": [
    {
     "data": {
      "text/plain": [
       "1"
      ]
     },
     "execution_count": 28,
     "metadata": {},
     "output_type": "execute_result"
    }
   ],
   "source": [
    "tuple_3[1:2] # 1에 접근"
   ]
  },
  {
   "cell_type": "code",
   "execution_count": 61,
   "metadata": {},
   "outputs": [
    {
     "data": {
      "text/plain": [
       "(2, 3)"
      ]
     },
     "execution_count": 61,
     "metadata": {},
     "output_type": "execute_result"
    }
   ],
   "source": [
    "tuple_3[2:4] # 2, 3에 접근"
   ]
  },
  {
   "cell_type": "code",
   "execution_count": 31,
   "metadata": {},
   "outputs": [
    {
     "data": {
      "text/plain": [
       "(0, 2, 4)"
      ]
     },
     "execution_count": 31,
     "metadata": {},
     "output_type": "execute_result"
    }
   ],
   "source": [
    "tuple_3[0:6:2] # Q. 규칙은 무엇일까?"
   ]
  },
  {
   "attachments": {},
   "cell_type": "markdown",
   "metadata": {},
   "source": [
    "### 1.2.3. 변경"
   ]
  },
  {
   "attachments": {},
   "cell_type": "markdown",
   "metadata": {},
   "source": [
    "변경 불가(immutable)"
   ]
  },
  {
   "attachments": {},
   "cell_type": "markdown",
   "metadata": {},
   "source": [
    "### 1.2.4. 삽입"
   ]
  },
  {
   "attachments": {},
   "cell_type": "markdown",
   "metadata": {},
   "source": [
    "기존 튜플 내 삽입 불가(immutable)이나, + 및 *를 통하여 새로운 튜플을 생성하는 작업은 가능하다.<br>\n",
    "ex."
   ]
  },
  {
   "cell_type": "code",
   "execution_count": 63,
   "metadata": {},
   "outputs": [
    {
     "data": {
      "text/plain": [
       "(0, 1, 2, 3, 4, 5, 0, 1, 2, 3, 4, 5, 0, 1, 2, 3, 4, 5)"
      ]
     },
     "execution_count": 63,
     "metadata": {},
     "output_type": "execute_result"
    }
   ],
   "source": [
    "tuple_4 = tuple_3 + tuple_3 * 2\n",
    "tuple_4"
   ]
  },
  {
   "attachments": {},
   "cell_type": "markdown",
   "metadata": {},
   "source": [
    "### 1.2.5. 삭제"
   ]
  },
  {
   "attachments": {},
   "cell_type": "markdown",
   "metadata": {},
   "source": [
    "삭제 불가(immutable)"
   ]
  },
  {
   "attachments": {},
   "cell_type": "markdown",
   "metadata": {},
   "source": [
    "### 1.2.6. 탐색"
   ]
  },
  {
   "cell_type": "code",
   "execution_count": 64,
   "metadata": {},
   "outputs": [
    {
     "data": {
      "text/plain": [
       "18"
      ]
     },
     "execution_count": 64,
     "metadata": {},
     "output_type": "execute_result"
    }
   ],
   "source": [
    "len(tuple_4)"
   ]
  },
  {
   "cell_type": "code",
   "execution_count": 65,
   "metadata": {},
   "outputs": [
    {
     "data": {
      "text/plain": [
       "5"
      ]
     },
     "execution_count": 65,
     "metadata": {},
     "output_type": "execute_result"
    }
   ],
   "source": [
    "max(tuple_4)"
   ]
  },
  {
   "cell_type": "code",
   "execution_count": 66,
   "metadata": {},
   "outputs": [
    {
     "data": {
      "text/plain": [
       "0"
      ]
     },
     "execution_count": 66,
     "metadata": {},
     "output_type": "execute_result"
    }
   ],
   "source": [
    "min(tuple_4)"
   ]
  },
  {
   "cell_type": "code",
   "execution_count": 67,
   "metadata": {},
   "outputs": [
    {
     "data": {
      "text/plain": [
       "3"
      ]
     },
     "execution_count": 67,
     "metadata": {},
     "output_type": "execute_result"
    }
   ],
   "source": [
    "tuple_4.count(0) # 해당 튜플 내 0의 갯수"
   ]
  },
  {
   "cell_type": "code",
   "execution_count": 68,
   "metadata": {},
   "outputs": [
    {
     "data": {
      "text/plain": [
       "0"
      ]
     },
     "execution_count": 68,
     "metadata": {},
     "output_type": "execute_result"
    }
   ],
   "source": [
    "tuple_4.index(0) # 해당 튜플 내 처음으로 0이 나오는 인덱스 반환"
   ]
  },
  {
   "attachments": {},
   "cell_type": "markdown",
   "metadata": {},
   "source": [
    "### 1.2.7. 정렬"
   ]
  },
  {
   "attachments": {},
   "cell_type": "markdown",
   "metadata": {},
   "source": [
    "Immutable이므로 정렬의 의미가 없으나, 굳이 정렬하게 된다면 리스트가 생성된다."
   ]
  },
  {
   "cell_type": "code",
   "execution_count": 69,
   "metadata": {},
   "outputs": [
    {
     "name": "stdout",
     "output_type": "stream",
     "text": [
      "[0, 0, 0, 1, 1, 1, 2, 2, 2, 3, 3, 3, 4, 4, 4, 5, 5, 5]\n",
      "<class 'list'>\n"
     ]
    }
   ],
   "source": [
    "print(sorted(tuple_4))\n",
    "print(type(sorted(tuple_4)))"
   ]
  },
  {
   "attachments": {},
   "cell_type": "markdown",
   "metadata": {},
   "source": [
    "## 1.3. Set\n",
    "중복 없는 고유 원소들로 구성된 집합 형태의 컬렉션으로 추가, 삽입 및 삭제는 가능하나 중복값이 제거되므로 이를 활용하여 특수한 경우 유용하게 활용 가능하며 '고유값'에 초첨을 맞춘 관계로 인덱스를 사용할 수 없어 이를 활용한 접근 등이 불가능하다.<br>\n",
    "중괄호(brace bracket)를 사용하여 선언한다.\n",
    "직관적으로, 중괄호 안에 어떤 수 혹은 문자를 할당하더라도 해당 셋이 가지고 있는 고유 원소의 목록을 보여준다고 생각하면 이해하기 쉽다.<br>"
   ]
  },
  {
   "attachments": {},
   "cell_type": "markdown",
   "metadata": {},
   "source": [
    "### 1.3.1. 생성"
   ]
  },
  {
   "attachments": {},
   "cell_type": "markdown",
   "metadata": {},
   "source": [
    "#### 방법 1 "
   ]
  },
  {
   "cell_type": "code",
   "execution_count": 70,
   "metadata": {},
   "outputs": [
    {
     "data": {
      "text/plain": [
       "{0, 1, 2, 3, 4, 5}"
      ]
     },
     "execution_count": 70,
     "metadata": {},
     "output_type": "execute_result"
    }
   ],
   "source": [
    "set_1 = {0, 1, 2, 3, 4, 5}\n",
    "set_1"
   ]
  },
  {
   "attachments": {},
   "cell_type": "markdown",
   "metadata": {},
   "source": [
    "#### 방법 2"
   ]
  },
  {
   "cell_type": "code",
   "execution_count": 71,
   "metadata": {},
   "outputs": [
    {
     "data": {
      "text/plain": [
       "{0, 1, 2, 3, 4, 5}"
      ]
     },
     "execution_count": 71,
     "metadata": {},
     "output_type": "execute_result"
    }
   ],
   "source": [
    "set_2 = set(range(6))\n",
    "set_2"
   ]
  },
  {
   "attachments": {},
   "cell_type": "markdown",
   "metadata": {},
   "source": [
    "#### 방법 3 "
   ]
  },
  {
   "cell_type": "code",
   "execution_count": 72,
   "metadata": {},
   "outputs": [
    {
     "data": {
      "text/plain": [
       "{0, 1, 2, 3, 4, 5}"
      ]
     },
     "execution_count": 72,
     "metadata": {},
     "output_type": "execute_result"
    }
   ],
   "source": [
    "set_3 = set(map(int, '0 1 2 3 4 5'.split()))\n",
    "set_3"
   ]
  },
  {
   "attachments": {},
   "cell_type": "markdown",
   "metadata": {},
   "source": [
    "#### 방법 4 "
   ]
  },
  {
   "cell_type": "code",
   "execution_count": 73,
   "metadata": {},
   "outputs": [
    {
     "data": {
      "text/plain": [
       "{0, 1, 2, 3, 4, 5}"
      ]
     },
     "execution_count": 73,
     "metadata": {},
     "output_type": "execute_result"
    }
   ],
   "source": [
    "set_4 = {0, 1, 2, 2, 2, 2, 2, 2, 2, 3, 4, 5}\n",
    "set_4"
   ]
  },
  {
   "attachments": {},
   "cell_type": "markdown",
   "metadata": {},
   "source": [
    "#### 방법 5 "
   ]
  },
  {
   "cell_type": "code",
   "execution_count": 74,
   "metadata": {},
   "outputs": [
    {
     "data": {
      "text/plain": [
       "{0, 1, 2, 3, 4, 5}"
      ]
     },
     "execution_count": 74,
     "metadata": {},
     "output_type": "execute_result"
    }
   ],
   "source": [
    "set_5 = {5, 3, 4, 1, 1, 2, 0}\n",
    "set_5"
   ]
  },
  {
   "attachments": {},
   "cell_type": "markdown",
   "metadata": {},
   "source": [
    "#### 방법 6 "
   ]
  },
  {
   "cell_type": "code",
   "execution_count": 32,
   "metadata": {},
   "outputs": [
    {
     "name": "stdout",
     "output_type": "stream",
     "text": [
      "{1, 2, 3, 5, 'a', '1', 'z', 'b'}\n",
      "!!! 사전식 배열을 따른다는 것을 유념하도록 하자.\n"
     ]
    }
   ],
   "source": [
    "set_6 = {'z', 'a', '1', 3, 5, 5, 2, 3, 1, 'b', 'z'}\n",
    "set_6\n",
    "print(set_6)\n",
    "print('!!! 사전식 배열을 따른다는 것을 유념하도록 하자.')"
   ]
  },
  {
   "attachments": {},
   "cell_type": "markdown",
   "metadata": {},
   "source": [
    "### 1.3.2. 접근"
   ]
  },
  {
   "attachments": {},
   "cell_type": "markdown",
   "metadata": {},
   "source": [
    "불가"
   ]
  },
  {
   "attachments": {},
   "cell_type": "markdown",
   "metadata": {},
   "source": [
    "### 1.3.3. 변경"
   ]
  },
  {
   "attachments": {},
   "cell_type": "markdown",
   "metadata": {},
   "source": [
    "불가"
   ]
  },
  {
   "attachments": {},
   "cell_type": "markdown",
   "metadata": {},
   "source": [
    "### 1.3.4. 삽입"
   ]
  },
  {
   "attachments": {},
   "cell_type": "markdown",
   "metadata": {},
   "source": [
    "#### 방법 1 "
   ]
  },
  {
   "cell_type": "code",
   "execution_count": 76,
   "metadata": {},
   "outputs": [],
   "source": [
    "set_7 = {0, 1, 2, 3, 4, 5}"
   ]
  },
  {
   "cell_type": "code",
   "execution_count": 77,
   "metadata": {},
   "outputs": [
    {
     "data": {
      "text/plain": [
       "{0, 1, 2, 3, 4, 5, 6}"
      ]
     },
     "execution_count": 77,
     "metadata": {},
     "output_type": "execute_result"
    }
   ],
   "source": [
    "set_7.add(6)\n",
    "set_7"
   ]
  },
  {
   "attachments": {},
   "cell_type": "markdown",
   "metadata": {},
   "source": [
    "#### 방법 2 "
   ]
  },
  {
   "cell_type": "code",
   "execution_count": 78,
   "metadata": {},
   "outputs": [],
   "source": [
    "set_8 = {0, 1, 2, 3, 4, 5}"
   ]
  },
  {
   "cell_type": "code",
   "execution_count": 79,
   "metadata": {},
   "outputs": [
    {
     "data": {
      "text/plain": [
       "{-1, 0, 1, 2, 3, 4, 5, 7}"
      ]
     },
     "execution_count": 79,
     "metadata": {},
     "output_type": "execute_result"
    }
   ],
   "source": [
    "set_8.update({-1, 0, 7, 1})\n",
    "set_8"
   ]
  },
  {
   "attachments": {},
   "cell_type": "markdown",
   "metadata": {},
   "source": [
    "### 1.3.5. 삭제"
   ]
  },
  {
   "cell_type": "code",
   "execution_count": 36,
   "metadata": {},
   "outputs": [],
   "source": [
    "set_9 = {0, 1, 2, 3, 4, 5}"
   ]
  },
  {
   "cell_type": "code",
   "execution_count": 37,
   "metadata": {},
   "outputs": [
    {
     "data": {
      "text/plain": [
       "{1, 2, 3, 4, 5}"
      ]
     },
     "execution_count": 37,
     "metadata": {},
     "output_type": "execute_result"
    }
   ],
   "source": [
    "set_9.remove(0) #없는 원소를 삭제하려 할 경우 에러 발생, 본 코드 두 번 돌려 확인 할 것\n",
    "set_9"
   ]
  },
  {
   "cell_type": "code",
   "execution_count": 38,
   "metadata": {},
   "outputs": [
    {
     "data": {
      "text/plain": [
       "set()"
      ]
     },
     "execution_count": 38,
     "metadata": {},
     "output_type": "execute_result"
    }
   ],
   "source": [
    "set_9.clear() # 근심걱정따위..\n",
    "set_9"
   ]
  },
  {
   "attachments": {},
   "cell_type": "markdown",
   "metadata": {},
   "source": [
    "### 1.3.6. 탐색"
   ]
  },
  {
   "attachments": {},
   "cell_type": "markdown",
   "metadata": {},
   "source": [
    "고유값에 대한 리스팅이 목적으로서 탐색은 본질적으로 불가"
   ]
  },
  {
   "attachments": {},
   "cell_type": "markdown",
   "metadata": {},
   "source": [
    "### 1.3.7. 정렬"
   ]
  },
  {
   "attachments": {},
   "cell_type": "markdown",
   "metadata": {},
   "source": [
    "역시 본질적으로 불가"
   ]
  },
  {
   "attachments": {},
   "cell_type": "markdown",
   "metadata": {},
   "source": [
    "## 1.4. Dictionary\n",
    "딕셔너리는 **키와 밸류**로 데이터를 연결하는 방식으로, json 포맷 등 데이터의 키와 값이 비균등한 형식을 취급하기 좋다.<br>\n",
    "특히 AI에서 자주 다루는 비정형 데이터를 처리하기 좋은 포맷이다.<br>\n",
    "Set과 같이 중괄호를 사용하나, {'key_1': value_list_1, 'key_2': value_list_2, ...}의 형태로 처리하는 구조적 특성이 있다."
   ]
  },
  {
   "attachments": {},
   "cell_type": "markdown",
   "metadata": {},
   "source": [
    "### 1.4.1. 생성"
   ]
  },
  {
   "cell_type": "code",
   "execution_count": 2,
   "metadata": {},
   "outputs": [
    {
     "data": {
      "text/plain": [
       "{'Naver': 42.1, 'Samsung': 302.78, 'LG': 325.25, 'Sk': 73.1, 'Hyundai': 90.75}"
      ]
     },
     "execution_count": 2,
     "metadata": {},
     "output_type": "execute_result"
    }
   ],
   "source": [
    "prices = {\n",
    "    'Naver': 42.1,\n",
    "    'Samsung': 302.78,\n",
    "    'LG': 325.25,\n",
    "    'Sk': 73.10,\n",
    "    'Hyundai': 90.75\n",
    "}\n",
    "prices"
   ]
  },
  {
   "attachments": {},
   "cell_type": "markdown",
   "metadata": {},
   "source": [
    "### 1.4.2. 접근"
   ]
  },
  {
   "cell_type": "code",
   "execution_count": 3,
   "metadata": {},
   "outputs": [
    {
     "data": {
      "text/plain": [
       "42.1"
      ]
     },
     "execution_count": 3,
     "metadata": {},
     "output_type": "execute_result"
    }
   ],
   "source": [
    "prices['Naver']"
   ]
  },
  {
   "attachments": {},
   "cell_type": "markdown",
   "metadata": {},
   "source": [
    "### 1.4.3. 변경"
   ]
  },
  {
   "cell_type": "code",
   "execution_count": 4,
   "metadata": {},
   "outputs": [
    {
     "data": {
      "text/plain": [
       "{'Naver': 23.5, 'Samsung': 302.78, 'LG': 325.25, 'Sk': 73.1, 'Hyundai': 90.75}"
      ]
     },
     "execution_count": 4,
     "metadata": {},
     "output_type": "execute_result"
    }
   ],
   "source": [
    "prices['Naver'] = 23.5\n",
    "prices"
   ]
  },
  {
   "attachments": {},
   "cell_type": "markdown",
   "metadata": {},
   "source": [
    "### 1.4.4. 삽입"
   ]
  },
  {
   "cell_type": "code",
   "execution_count": 5,
   "metadata": {},
   "outputs": [
    {
     "data": {
      "text/plain": [
       "{'Naver': 23.5,\n",
       " 'Samsung': 302.78,\n",
       " 'LG': 325.25,\n",
       " 'Sk': 73.1,\n",
       " 'Hyundai': 90.75,\n",
       " 'Kakao': 100}"
      ]
     },
     "execution_count": 5,
     "metadata": {},
     "output_type": "execute_result"
    }
   ],
   "source": [
    "prices['Kakao'] = 100\n",
    "prices"
   ]
  },
  {
   "attachments": {},
   "cell_type": "markdown",
   "metadata": {},
   "source": [
    "### 1.4.5. 삭제"
   ]
  },
  {
   "cell_type": "code",
   "execution_count": 6,
   "metadata": {},
   "outputs": [
    {
     "data": {
      "text/plain": [
       "{'Naver': 23.5, 'LG': 325.25, 'Sk': 73.1, 'Hyundai': 90.75, 'Kakao': 100}"
      ]
     },
     "execution_count": 6,
     "metadata": {},
     "output_type": "execute_result"
    }
   ],
   "source": [
    "del prices['Samsung']\n",
    "prices"
   ]
  },
  {
   "attachments": {},
   "cell_type": "markdown",
   "metadata": {},
   "source": [
    "### 1.4.6. 탐색"
   ]
  },
  {
   "cell_type": "code",
   "execution_count": 7,
   "metadata": {},
   "outputs": [
    {
     "data": {
      "text/plain": [
       "{'Naver': 23.5, 'LG': 325.25, 'Sk': 73.1, 'Hyundai': 90.75, 'Kakao': 100}"
      ]
     },
     "execution_count": 7,
     "metadata": {},
     "output_type": "execute_result"
    }
   ],
   "source": [
    "prices"
   ]
  },
  {
   "cell_type": "code",
   "execution_count": 8,
   "metadata": {},
   "outputs": [
    {
     "data": {
      "text/plain": [
       "5"
      ]
     },
     "execution_count": 8,
     "metadata": {},
     "output_type": "execute_result"
    }
   ],
   "source": [
    "len(prices)"
   ]
  },
  {
   "cell_type": "code",
   "execution_count": 9,
   "metadata": {},
   "outputs": [
    {
     "data": {
      "text/plain": [
       "'Sk'"
      ]
     },
     "execution_count": 9,
     "metadata": {},
     "output_type": "execute_result"
    }
   ],
   "source": [
    "max(prices) # 이름이 사전 배열에서 가장 높은 것을 고름 "
   ]
  },
  {
   "cell_type": "code",
   "execution_count": 10,
   "metadata": {},
   "outputs": [
    {
     "data": {
      "text/plain": [
       "'LG'"
      ]
     },
     "execution_count": 10,
     "metadata": {},
     "output_type": "execute_result"
    }
   ],
   "source": [
    "max(prices, key = lambda x: prices[x]) # 값을 기준으로 고름"
   ]
  },
  {
   "cell_type": "code",
   "execution_count": 11,
   "metadata": {},
   "outputs": [
    {
     "data": {
      "text/plain": [
       "'Hyundai'"
      ]
     },
     "execution_count": 11,
     "metadata": {},
     "output_type": "execute_result"
    }
   ],
   "source": [
    "min(prices)"
   ]
  },
  {
   "cell_type": "code",
   "execution_count": 12,
   "metadata": {},
   "outputs": [
    {
     "data": {
      "text/plain": [
       "'Naver'"
      ]
     },
     "execution_count": 12,
     "metadata": {},
     "output_type": "execute_result"
    }
   ],
   "source": [
    "min(prices, key = lambda x: prices[x])"
   ]
  },
  {
   "cell_type": "code",
   "execution_count": 13,
   "metadata": {},
   "outputs": [
    {
     "data": {
      "text/plain": [
       "dict_values([23.5, 325.25, 73.1, 90.75, 100])"
      ]
     },
     "execution_count": 13,
     "metadata": {},
     "output_type": "execute_result"
    }
   ],
   "source": [
    "prices.values()"
   ]
  },
  {
   "cell_type": "code",
   "execution_count": 14,
   "metadata": {},
   "outputs": [
    {
     "data": {
      "text/plain": [
       "dict_keys(['Naver', 'LG', 'Sk', 'Hyundai', 'Kakao'])"
      ]
     },
     "execution_count": 14,
     "metadata": {},
     "output_type": "execute_result"
    }
   ],
   "source": [
    "prices.keys()"
   ]
  },
  {
   "cell_type": "code",
   "execution_count": 15,
   "metadata": {
    "scrolled": true
   },
   "outputs": [
    {
     "data": {
      "text/plain": [
       "('LG', 325.25)"
      ]
     },
     "execution_count": 15,
     "metadata": {},
     "output_type": "execute_result"
    }
   ],
   "source": [
    "max(zip(prices.keys(), prices.values()), key = lambda x: x[1]) \n",
    "# 이름과 함께 출력하되, 값을 기준으로 하려면 (회사이름, 가격)으로 묶어주고 key를 가격으로 "
   ]
  },
  {
   "cell_type": "code",
   "execution_count": 16,
   "metadata": {},
   "outputs": [
    {
     "data": {
      "text/plain": [
       "dict_items([('Naver', 23.5), ('LG', 325.25), ('Sk', 73.1), ('Hyundai', 90.75), ('Kakao', 100)])"
      ]
     },
     "execution_count": 16,
     "metadata": {},
     "output_type": "execute_result"
    }
   ],
   "source": [
    "prices.items() # key와 value를 함께 묶어준다."
   ]
  },
  {
   "cell_type": "code",
   "execution_count": 17,
   "metadata": {},
   "outputs": [
    {
     "data": {
      "text/plain": [
       "('LG', 325.25)"
      ]
     },
     "execution_count": 17,
     "metadata": {},
     "output_type": "execute_result"
    }
   ],
   "source": [
    "max(prices.items(), key = lambda x: x[1])"
   ]
  },
  {
   "attachments": {},
   "cell_type": "markdown",
   "metadata": {},
   "source": [
    "### 1.4.7. 정렬"
   ]
  },
  {
   "cell_type": "code",
   "execution_count": 99,
   "metadata": {},
   "outputs": [
    {
     "data": {
      "text/plain": [
       "['Hyundai', 'Kakao', 'LG', 'Naver', 'Sk']"
      ]
     },
     "execution_count": 99,
     "metadata": {},
     "output_type": "execute_result"
    }
   ],
   "source": [
    "sorted(prices) # 이름으로 나열"
   ]
  },
  {
   "cell_type": "code",
   "execution_count": 100,
   "metadata": {},
   "outputs": [
    {
     "data": {
      "text/plain": [
       "['Naver', 'Sk', 'Hyundai', 'Kakao', 'LG']"
      ]
     },
     "execution_count": 100,
     "metadata": {},
     "output_type": "execute_result"
    }
   ],
   "source": [
    "sorted(prices, key = lambda x: prices[x]) # 가격으로 나열 (저렴한 순)"
   ]
  },
  {
   "cell_type": "code",
   "execution_count": 101,
   "metadata": {},
   "outputs": [
    {
     "data": {
      "text/plain": [
       "['LG', 'Kakao', 'Hyundai', 'Sk', 'Naver']"
      ]
     },
     "execution_count": 101,
     "metadata": {},
     "output_type": "execute_result"
    }
   ],
   "source": [
    "sorted(prices, key = lambda x: -prices[x]) # 가격으로 나열 (비싼 순)"
   ]
  },
  {
   "cell_type": "code",
   "execution_count": 102,
   "metadata": {},
   "outputs": [
    {
     "data": {
      "text/plain": [
       "[(23.5, 'Naver'),\n",
       " (73.1, 'Sk'),\n",
       " (90.75, 'Hyundai'),\n",
       " (100, 'Kakao'),\n",
       " (325.25, 'LG')]"
      ]
     },
     "execution_count": 102,
     "metadata": {},
     "output_type": "execute_result"
    }
   ],
   "source": [
    "sorted(zip(prices.values(), prices.keys())) # 이름과 함께"
   ]
  },
  {
   "cell_type": "code",
   "execution_count": 103,
   "metadata": {},
   "outputs": [
    {
     "data": {
      "text/plain": [
       "['key1', 'key2']"
      ]
     },
     "execution_count": 103,
     "metadata": {},
     "output_type": "execute_result"
    }
   ],
   "source": [
    "dic_1 = {'key1': 1, 'key2': 2}\n",
    "sorted(dic_1) # key 기준 사전식 정렬"
   ]
  },
  {
   "cell_type": "code",
   "execution_count": 104,
   "metadata": {},
   "outputs": [
    {
     "data": {
      "text/plain": [
       "['key2', 'key1']"
      ]
     },
     "execution_count": 104,
     "metadata": {},
     "output_type": "execute_result"
    }
   ],
   "source": [
    "sorted(dic_1, reverse=True) # 내림차순"
   ]
  },
  {
   "attachments": {},
   "cell_type": "markdown",
   "metadata": {},
   "source": [
    "#### cf. Nested List vs. Dictionary"
   ]
  },
  {
   "cell_type": "code",
   "execution_count": 14,
   "metadata": {},
   "outputs": [
    {
     "name": "stdout",
     "output_type": "stream",
     "text": [
      "[100, 90, 'A']\n"
     ]
    }
   ],
   "source": [
    "# Nested List\n",
    "grades_list = [\n",
    "    ['001', 100, 90, 'A'], \n",
    "    ['002', 10, 30, 'D'], \n",
    "    ['003', 70, 80, 'B']\n",
    "]\n",
    "\n",
    "for student in grades_list:\n",
    "    if student[0] == '001':\n",
    "        print(student[1:])"
   ]
  },
  {
   "cell_type": "code",
   "execution_count": 15,
   "metadata": {},
   "outputs": [
    {
     "data": {
      "text/plain": [
       "[100, 90, 'A']"
      ]
     },
     "execution_count": 15,
     "metadata": {},
     "output_type": "execute_result"
    }
   ],
   "source": [
    "# Dictionary\n",
    "grades_list = {\n",
    "    '001': [100, 90, 'A'], \n",
    "    '002': [10, 30, 'D'], \n",
    "    '003': [70, 80, 'B']\n",
    "}\n",
    "grades_list['001']"
   ]
  },
  {
   "attachments": {},
   "cell_type": "markdown",
   "metadata": {},
   "source": [
    "# 2. About Control Statements\n",
    "제어문은 함수와 함께 프로그래밍의 꽃이라고 할 수 있다.<br>\n",
    "다양한 조건을 처리하여 원하는 과제를 수행해보자."
   ]
  },
  {
   "attachments": {},
   "cell_type": "markdown",
   "metadata": {},
   "source": [
    ">어느 개발자가 퇴근길에 아내에게 전화를 걸었다.\n",
    ">\n",
    ">**개발자**:<br>\n",
    ">자기 나 지금 퇴근.<br>\n",
    ">집에 가는 길에 마트 들를 건데 뭐 사다 줄까?<br>\n",
    ">\n",
    ">**아 내**:<br>\n",
    ">우유 두 개 사 와.<br>\n",
    ">\n",
    ">**개발자**: <br>\n",
    ">그리고?\n",
    ">\n",
    ">**아 내**: <br>\n",
    ">만약 마트에 달걀이 있으면 여섯 개 사다 줘.\n",
    ">\n",
    ">귀가한 개발자, 아내에게 우유 여섯 개를 건넨다.\n",
    ">\n",
    ">**아 내**: <br>\n",
    ">왜 이렇게 우유를 많이 샀어?\n",
    ">\n",
    ">**개발자**: <br>\n",
    ">마트에 달걀이 있길래.."
   ]
  },
  {
   "attachments": {},
   "cell_type": "markdown",
   "metadata": {},
   "source": [
    "## 2.1. IF\n",
    "### 2.1.1. Simple if\n",
    "\n",
    ">**if  조건식:  \n",
    ">&nbsp;&nbsp;&nbsp;&nbsp;실행문**\n",
    " \n",
    "만약 조건식이 참이라면, 실행문 하거라~~~<br>\n",
    "<br>\n",
    "조건식은 여러 비교 연산자를 활용하여 구성한다."
   ]
  },
  {
   "cell_type": "code",
   "execution_count": 22,
   "metadata": {},
   "outputs": [
    {
     "name": "stdout",
     "output_type": "stream",
     "text": [
      "b is larger than b\n"
     ]
    }
   ],
   "source": [
    "a = 1\n",
    "b = 3\n",
    "\n",
    "if a > b:\n",
    "    print(a, 'is larger than', b)\n",
    "else: \n",
    "    print(\"b is larger than b\")"
   ]
  },
  {
   "attachments": {},
   "cell_type": "markdown",
   "metadata": {},
   "source": [
    "### 2.1.2. if else\n",
    ">**if  조건식1:  \n",
    ">&nbsp;&nbsp;&nbsp;&nbsp;&nbsp;실행문1<br>\n",
    ">else  조건식2:<br>\n",
    ">&nbsp;&nbsp;&nbsp;&nbsp;&nbsp;실행문2**"
   ]
  },
  {
   "cell_type": "code",
   "execution_count": 108,
   "metadata": {},
   "outputs": [
    {
     "name": "stdout",
     "output_type": "stream",
     "text": [
      "a is larger than b\n"
     ]
    }
   ],
   "source": [
    "if a > b:\n",
    "    print('a is larger than b')\n",
    "else:\n",
    "    print('b is equal or larger than a')"
   ]
  },
  {
   "attachments": {},
   "cell_type": "markdown",
   "metadata": {},
   "source": [
    "### 2.1.3. if elif else\n",
    ">**if  조건식1:  \n",
    ">&nbsp;&nbsp;&nbsp;&nbsp;&nbsp;실행문1<br>\n",
    ">elif  조건식2:<br>\n",
    ">&nbsp;&nbsp;&nbsp;&nbsp;&nbsp;실행문2**<br>\n",
    ">**else  조건식3:<br>\n",
    ">&nbsp;&nbsp;&nbsp;&nbsp;&nbsp;실행문3**"
   ]
  },
  {
   "cell_type": "code",
   "execution_count": 109,
   "metadata": {},
   "outputs": [
    {
     "name": "stdout",
     "output_type": "stream",
     "text": [
      "a is larger than b\n"
     ]
    }
   ],
   "source": [
    "if a > b:\n",
    "    print('a is larger than b')\n",
    "elif a==b:\n",
    "    print('b is equal to a')\n",
    "else:\n",
    "    print('b is larger than a')"
   ]
  },
  {
   "attachments": {},
   "cell_type": "markdown",
   "metadata": {},
   "source": [
    "### 2.1.4. NESTED if else\n",
    ">**if  조건식1:  \n",
    ">&nbsp;&nbsp;&nbsp;&nbsp;&nbsp;if  조건식1-1:<br>\n",
    ">&nbsp;&nbsp;&nbsp;&nbsp;&nbsp;&nbsp;&nbsp;&nbsp;&nbsp;&nbsp;실행문1-1<br>\n",
    ">&nbsp;&nbsp;&nbsp;&nbsp;&nbsp;else:<br>\n",
    ">&nbsp;&nbsp;&nbsp;&nbsp;&nbsp;&nbsp;&nbsp;&nbsp;&nbsp;&nbsp;실행문1-2<br>\n",
    ">else:<br>\n",
    ">&nbsp;&nbsp;&nbsp;&nbsp;&nbsp;if  조건식2-1:<br>\n",
    ">&nbsp;&nbsp;&nbsp;&nbsp;&nbsp;&nbsp;&nbsp;&nbsp;&nbsp;&nbsp;실행문2-1<br>\n",
    ">&nbsp;&nbsp;&nbsp;&nbsp;&nbsp;else:<br>\n",
    ">&nbsp;&nbsp;&nbsp;&nbsp;&nbsp;&nbsp;&nbsp;&nbsp;&nbsp;&nbsp;실행문2-2**<br>"
   ]
  },
  {
   "cell_type": "code",
   "execution_count": 25,
   "metadata": {},
   "outputs": [
    {
     "name": "stdout",
     "output_type": "stream",
     "text": [
      "미성년자 남성\n"
     ]
    }
   ],
   "source": [
    "gender = 'man'\n",
    "age = 6\n",
    "\n",
    "if gender == 'man':\n",
    "    if age >= 19:\n",
    "        print('성인 남성')\n",
    "    else:\n",
    "        print('미성년자 남성')\n",
    "else:\n",
    "    if age >= 19:\n",
    "        print('성인 여성')\n",
    "    else:\n",
    "        print('미성년자 여성')"
   ]
  },
  {
   "attachments": {},
   "cell_type": "markdown",
   "metadata": {},
   "source": [
    "### 2.1.5. ifelse\n",
    ">실행문1 **if** 조건식1 **else** 실행문2"
   ]
  },
  {
   "cell_type": "code",
   "execution_count": 28,
   "metadata": {},
   "outputs": [],
   "source": [
    "a = 4"
   ]
  },
  {
   "cell_type": "code",
   "execution_count": 29,
   "metadata": {},
   "outputs": [
    {
     "data": {
      "text/plain": [
       "'짝수'"
      ]
     },
     "execution_count": 29,
     "metadata": {},
     "output_type": "execute_result"
    }
   ],
   "source": [
    "'홀수' if a % 2 == 1 else '짝수'"
   ]
  },
  {
   "attachments": {},
   "cell_type": "markdown",
   "metadata": {},
   "source": [
    "## 2.2. FOR\n",
    "\n",
    ">**for i in range( ):  \n",
    ">&nbsp;&nbsp;&nbsp;&nbsp;실행문**\n",
    " \n",
    "범위 안의 i에 대해서 실행문 하거라~~<br>\n",
    "<br>\n",
    "범위와 관련한 여러 기법들이 존재한다."
   ]
  },
  {
   "cell_type": "code",
   "execution_count": 35,
   "metadata": {},
   "outputs": [
    {
     "name": "stdout",
     "output_type": "stream",
     "text": [
      "2\n",
      "4\n",
      "6\n",
      "8\n",
      "10\n",
      "12\n",
      "14\n",
      "16\n",
      "18\n"
     ]
    }
   ],
   "source": [
    "# Print Even numbers under 20 by using FOR\n",
    "for i in range(1,10):\n",
    "    print(i*2)"
   ]
  },
  {
   "attachments": {},
   "cell_type": "markdown",
   "metadata": {},
   "source": [
    "## 2.3. WHILE\n",
    "\n",
    ">**>while 조건문:  \n",
    ">&nbsp;&nbsp;&nbsp;&nbsp;실행문**\n",
    " \n",
    "초기값에 대해 조건문이 ???한 동안에는 계속 !!!하거라~~<br>\n",
    "<br>\n",
    "결과값의 저장과 처리가 중요하다."
   ]
  },
  {
   "cell_type": "code",
   "execution_count": 38,
   "metadata": {},
   "outputs": [
    {
     "name": "stdout",
     "output_type": "stream",
     "text": [
      "1\n",
      "3\n",
      "5\n",
      "7\n",
      "9\n"
     ]
    }
   ],
   "source": [
    "start = 1\n",
    "while start <= 10:\n",
    "    print(start)\n",
    "    start = start + 1"
   ]
  },
  {
   "cell_type": "code",
   "execution_count": 114,
   "metadata": {},
   "outputs": [
    {
     "name": "stdout",
     "output_type": "stream",
     "text": [
      "2\n",
      "4\n",
      "6\n",
      "8\n",
      "10\n",
      "12\n",
      "14\n",
      "16\n",
      "18\n"
     ]
    }
   ],
   "source": [
    "# Print Even numbers under 20 by using WHILE\n",
    "start = 1\n",
    "while start <= 9:\n",
    "    print(start*2)\n",
    "    start = start + 1"
   ]
  },
  {
   "attachments": {},
   "cell_type": "markdown",
   "metadata": {},
   "source": [
    "## 3. ABOUT UDF - User Defined Function\n",
    "\n",
    "객체지향 프로그래밍의 꽃은 바로 사용자 정의 함수 만들기이다.<br>\n",
    "함수는 이전 강의에서 설명했듯, 아주 전통적인 표현으로 일종의 자판기이며 자판기의 결과물은 다른 자판기의 입력물로 사용 될 수 있다.<br>\n",
    "<br>\n",
    "기본적인 형태는 다음과 같다.<br>\n",
    ">**def** 함수명(arg_1, arg_2, ...):<br>\n",
    ">&nbsp;&nbsp;&nbsp;&nbsp;&nbsp;&nbsp;실행문<br>\n",
    "arg_1과 arg_2 및 ...으로 실행문 하는 함수명을 define 한다는 뜻으로 해석 할 것.<br>\n",
    "<br>\n",
    "다시 한 번 강조하자면, 프로그래밍**'언어'**이므로 결국 우리의 모국어인 한국어로 얼만큼 찰떡같이 해석하느냐가 빠른 실력 향상의 키포인트이다."
   ]
  },
  {
   "attachments": {},
   "cell_type": "markdown",
   "metadata": {},
   "source": [
    "쉬운 예제로 웜업을 해보자.<br>\n",
    "<br>\n",
    "a와 b 두 숫자를 더해주는 함수를 만들면?"
   ]
  },
  {
   "cell_type": "code",
   "execution_count": 40,
   "metadata": {},
   "outputs": [
    {
     "data": {
      "text/plain": [
       "2020"
      ]
     },
     "execution_count": 40,
     "metadata": {},
     "output_type": "execute_result"
    }
   ],
   "source": [
    "def add(a, b):\n",
    "    return a + b\n",
    "\n",
    "add(2000, 20)"
   ]
  },
  {
   "attachments": {},
   "cell_type": "markdown",
   "metadata": {},
   "source": [
    "간단한 함수이다.<br>\n",
    "파이썬의 조건문이나 함수에서 콜론(:) 후 개행한 다음 들여쓰기를 꼭 지켜야 함을 명심하자.\n",
    "\n",
    "그렇다면, random 라이브러리를 이용해 난수를 생성하여 한식, 일식, 중식 중 장르를 선택하면 세부 메뉴를 알아서 골라주는 함수를 만들어보자.<br>\n",
    "<br>\n",
    "함수명은 choice_in_menu로, argument는 dinner를 '한식', '일식', '중식'으로 받아 각기 메뉴 3가지씩을 랜덤하게 부여하여 총 9가지 메뉴를 제공하는 함수를 만들어보라.<br>\n",
    "<br>\n",
    ">***hint:***<br>\n",
    ">import random<br>\n",
    ">random.choice(['a', 'b', 'c'])<br>\n",
    ">를 활용하여 랜덤 선택을 부여 할 수 있다!"
   ]
  },
  {
   "cell_type": "code",
   "execution_count": null,
   "metadata": {},
   "outputs": [],
   "source": []
  },
  {
   "cell_type": "code",
   "execution_count": 25,
   "metadata": {},
   "outputs": [
    {
     "name": "stdout",
     "output_type": "stream",
     "text": [
      "된장찌개\n"
     ]
    }
   ],
   "source": [
    "##06.24 퀴즈1\n",
    "\n",
    "import random\n",
    "def choice_in_menu(dinner):\n",
    "    menu = random.choice(['a','b','c'])\n",
    "    if dinner == '한식':\n",
    "        if menu == 'a':\n",
    "            print('김치찌개')\n",
    "        elif menu == 'b':\n",
    "            print('된장찌개')\n",
    "        else:\n",
    "            print('삼겹살')\n",
    "    elif dinner == '일식':\n",
    "        if menu == 'a':\n",
    "            print('초밥')\n",
    "        elif menu == 'b':\n",
    "            print('우동')\n",
    "        else:\n",
    "            print('모밀')\n",
    "    else: #dinner =='중식'\n",
    "        if menu == 'a':\n",
    "            print('짜장면')\n",
    "        elif menu == 'b':\n",
    "            print('짬뽕')\n",
    "        else: \n",
    "            print('탕수육')\n",
    "\n",
    "choice_in_menu('한식')"
   ]
  },
  {
   "cell_type": "code",
   "execution_count": 45,
   "metadata": {},
   "outputs": [],
   "source": [
    "import random\n",
    "\n",
    "#### Type Your Code ####\n",
    "def choice_in_menu(dinner):\n",
    "    choice = random.choice(['a', 'b', 'c'])\n",
    "    if dinner == '한식':\n",
    "        if choice == 'a':\n",
    "            print('차돌박이 된장찌개')\n",
    "        elif choice == 'b':\n",
    "            print('삼겹살')\n",
    "        elif choice == 'c':\n",
    "            print('제육볶음')\n",
    "        else:\n",
    "            print('한식 선택 중 랜덤 초이스 기능에서 이상이 발생했습니다.')\n",
    "    elif dinner == '일식':\n",
    "        if choice == 'a':\n",
    "            print('초밥')\n",
    "        elif choice == 'b':\n",
    "            print('우동')\n",
    "        elif choice == 'c':\n",
    "            print('일식 카레')\n",
    "        else:\n",
    "            print('그런 메뉴는 없습니다.')\n",
    "    elif dinner == '중국식':\n",
    "        if choice == 'a':\n",
    "            print('짜장면')\n",
    "        elif choice == 'b':\n",
    "            print('짬뽕')\n",
    "        elif choice == 'c':\n",
    "            print('볶음밥')\n",
    "        else:\n",
    "            print('그런 메뉴는 없습니다.')\n",
    "    else:\n",
    "        print('걍 아무거나 드시죠')\n",
    "########################"
   ]
  },
  {
   "cell_type": "code",
   "execution_count": 91,
   "metadata": {},
   "outputs": [
    {
     "name": "stdout",
     "output_type": "stream",
     "text": [
      "일식 카레\n"
     ]
    }
   ],
   "source": [
    "choice_in_menu('일식')"
   ]
  },
  {
   "attachments": {},
   "cell_type": "markdown",
   "metadata": {},
   "source": [
    "## HW: 올 해를 입력하면 자동으로 올 해가 윤년인지 여부를 계산해주는 함수를 만들라!!"
   ]
  },
  {
   "cell_type": "code",
   "execution_count": 1,
   "metadata": {},
   "outputs": [
    {
     "name": "stdout",
     "output_type": "stream",
     "text": [
      "윤년조건 1 불만족\n",
      "평년\n"
     ]
    }
   ],
   "source": [
    "import datetime\n",
    "def year_is_leapyear(num):\n",
    "    if num % 4 ==0:\n",
    "        print('윤년조건 1 만족')\n",
    "        if num % 100 ==0:\n",
    "            print('윤년조건 2 불만족')\n",
    "            if num % 400 == 0:\n",
    "                print('윤년조건 3 만족')\n",
    "                print('윤년')\n",
    "            else:\n",
    "                print('윤년조건 3 불만족')\n",
    "                print('평년')\n",
    "        else:\n",
    "            print('윤년조건 2 만족')\n",
    "            print('윤년')\n",
    "    else:\n",
    "        print('윤년조건 1 불만족')\n",
    "        print('평년')\n",
    "\n",
    "year_is_leapyear(2022)"
   ]
  },
  {
   "cell_type": "code",
   "execution_count": null,
   "metadata": {},
   "outputs": [],
   "source": []
  },
  {
   "cell_type": "code",
   "execution_count": null,
   "metadata": {},
   "outputs": [],
   "source": []
  }
 ],
 "metadata": {
  "kernelspec": {
   "display_name": "Python 3 (ipykernel)",
   "language": "python",
   "name": "python3"
  },
  "language_info": {
   "codemirror_mode": {
    "name": "ipython",
    "version": 3
   },
   "file_extension": ".py",
   "mimetype": "text/x-python",
   "name": "python",
   "nbconvert_exporter": "python",
   "pygments_lexer": "ipython3",
   "version": "3.10.11"
  },
  "toc": {
   "base_numbering": 1,
   "nav_menu": {},
   "number_sections": false,
   "sideBar": true,
   "skip_h1_title": false,
   "title_cell": "Table of Contents",
   "title_sidebar": "Contents",
   "toc_cell": false,
   "toc_position": {},
   "toc_section_display": true,
   "toc_window_display": true
  }
 },
 "nbformat": 4,
 "nbformat_minor": 2
}
