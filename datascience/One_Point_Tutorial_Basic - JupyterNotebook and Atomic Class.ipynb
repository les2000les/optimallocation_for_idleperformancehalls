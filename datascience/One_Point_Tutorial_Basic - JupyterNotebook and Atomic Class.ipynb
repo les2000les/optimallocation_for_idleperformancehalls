{
 "cells": [
  {
   "attachments": {},
   "cell_type": "markdown",
   "metadata": {},
   "source": [
    "### ㅁOne Point Tutorial Basic I\n",
    "## `Jupyter Notebook & Atomic Class of Python`\n",
    "<p style='text-align: right;'> 빅데이터 분석 중고급과정 with 관악구, KMR</p>\n",
    "<p style='text-align: right;'> 2023 2nd | All rights reserved by Wooseok Song</p>\n",
    "\n",
    "---"
   ]
  },
  {
   "attachments": {},
   "cell_type": "markdown",
   "metadata": {},
   "source": [
    "## A. *<font color=\"green\">Jupyter</font>*를 배워 보자 !\n",
    "## B. 파이썬 객체의  *<font color=\"green\">기본 타입</font>*을 배워 보자 !\n",
    "\n",
    "\n",
    "### 학습 목표\n",
    "`Jupyter`의 기본 사용법을 이해하고 활용한다.<br>\n",
    "`객체 타입`을 이해하고 활용한다.\n"
   ]
  },
  {
   "attachments": {},
   "cell_type": "markdown",
   "metadata": {},
   "source": [
    "## I. Jupyter Notebook Shortcut\n",
    "주피터 노트북은 파이썬을 더 자주, 편리하게 사용 할 수 있도록 도와주는 강력한 개발 환경 입니다.<br>\n",
    "최소한 다음의 단축키들은 반드시 숙지하세요."
   ]
  },
  {
   "attachments": {},
   "cell_type": "markdown",
   "metadata": {},
   "source": [
    "**코드 실행**<br>\n",
    "작성한 코드를 실행 하는 것은 대부분의 언어용 IDE에서 공통적으로 지원합니다.<br>\n",
    "하지만, 파이썬이나 R과 같은 스크립트 언어는 현재 작성한 코드에 대한 결과값을 다이내믹하게 확인하며 프로그래밍 할 수 있다는 것이 큰 특장점이며, 주피터 노트북은 이러한 장점을 더욱 돋보이게 해줍니다.<br>\n",
    "앞으로 배우게 될 EDA나 시각화, Model Fitting 과정에서 직관적인 코딩과 즉각적인 결과 확인이 얼만큼 강력한 시너지를 만들어 내는지 직접 느껴보시기 바랍니다.<br>\n",
    "- **`Ctrl + Enter`** : 선택한 셀을 실행하고 대기합니다.\n",
    "- **`Shift + Enter`** : 선택한 셀을 실행하고 다음 셀로 이동 한 후 대기합니다. 다음 셀이 없을 경우 빈 셀을 생성합니다.\n",
    "- **Shift 키를 누른 상태로 클릭**하는 경우, 연속한 다수의 셀을 지정하여자동으로 순차 실행 할 수 있습니다."
   ]
  },
  {
   "cell_type": "code",
   "execution_count": null,
   "metadata": {},
   "outputs": [],
   "source": []
  },
  {
   "attachments": {},
   "cell_type": "markdown",
   "metadata": {},
   "source": [
    "**셀 추가**<br>\n",
    "주피터 노트북의 특징 중 하나는 각 코드 덩어리(chunk)마다 하나의 셀을 부여하여 관리한다는 점 입니다.<br>\n",
    "따라서, 다수의 셀로 하나의 프로그램을 구성하게 되는 것이 대부분이기 때문에 원하는 위치에 필요한 수량의 셀을 빠르게 생성할 수 있어야 합니다.<br>\n",
    "셀을 나누어 프로그래밍 하는 것은 글을 쓸 때 문단을 분리하는 것과 같은 역할이며, 주로 Input/Output/Model/Technic/Condition/Context/Class/Function/Module 등에 변화가 있을 경우 새로운 셀을 생성하게 됩니다.<br>\n",
    "굳이 암기해야 하는 부분은 아니며, 위에서 말씀 드린 ***글을 쓸 때 문단을 나눈다***는 느낌으로 접근하시면 자연스럽게 익숙해질 수 있습니다.\n",
    "- **`A`** : 새로운 셀을 선택한 셀 위에 추가합니다.\n",
    "- **`B`** : 새로운 셀을 선택한 셀 아래에 추가합니다."
   ]
  },
  {
   "attachments": {},
   "cell_type": "markdown",
   "metadata": {},
   "source": [
    "**셀 속성 변경**\n",
    "- **`Y`** : 선택한 셀을 코딩 모드로 변경합니다.\n",
    "- **`M`** : 선택한 셀을 마크다운 모드로 변경합니다.\n",
    "- 마크다운 문법 참고 링크: https://gist.github.com/ihoneymon/652be052a0727ad59601"
   ]
  },
  {
   "attachments": {},
   "cell_type": "markdown",
   "metadata": {},
   "source": [
    "**셀 복사/붙여넣기/삭제하기/되돌리기**\n",
    "- **`X`** : 선택한 셀을 잘라냅니다.\n",
    "- **`C`** : 선택한 셀을 복사합니다.\n",
    "- **`V`** : 복사한 셀을 선택한 셀 아래에 붙여넣습니다.\n",
    "- **`D, D`** :z 더블클릭하듯 D를 연타하여 선택한 셀을 삭제합니다.\n",
    "- **`Z`** : 삭제한 셀을 복구합니다."
   ]
  },
  {
   "attachments": {},
   "cell_type": "markdown",
   "metadata": {},
   "source": [
    "**기타**\n",
    "- **`Ctrl + B`** : 디렉토리창 숨기기/보이기\n",
    "- 함수에 커서를 두고 **`Shift + Tab`** : 함수 설명 보기(argument 확인에 유용하며, 핵심 기능중 하나입니다)\n",
    "- **`Help`**: 각종 Reference들(Python, Numpy, Matplotlib, Pandas 등등)을 확인할 수 있습니다. 여기에서 \"Keyboard shortcuts\"를 참고하세요."
   ]
  },
  {
   "attachments": {},
   "cell_type": "markdown",
   "metadata": {},
   "source": [
    "**파이썬의 도를 아십니까?**"
   ]
  },
  {
   "attachments": {},
   "cell_type": "markdown",
   "metadata": {},
   "source": [
    "간결하고, 효율적이며 빠르고 가볍게 잘 읽히는 코드를 작성 할 것."
   ]
  },
  {
   "attachments": {},
   "cell_type": "markdown",
   "metadata": {},
   "source": [
    "## II. Python Basic\n",
    "### i. Type of Object\n",
    "#### a. Data\n",
    "> **Numeric**: integer, float, complex<br>\n",
    "> 정수, 실수 및 복소수 등 기본적인 데이터형 오브젝트 타입\n",
    "\n"
   ]
  },
  {
   "cell_type": "code",
   "execution_count": 3,
   "metadata": {},
   "outputs": [
    {
     "data": {
      "text/plain": [
       "1"
      ]
     },
     "execution_count": 3,
     "metadata": {},
     "output_type": "execute_result"
    }
   ],
   "source": [
    "# int\n",
    "a = 1\n",
    "a"
   ]
  },
  {
   "cell_type": "code",
   "execution_count": 4,
   "metadata": {
    "scrolled": true
   },
   "outputs": [
    {
     "data": {
      "text/plain": [
       "int"
      ]
     },
     "execution_count": 4,
     "metadata": {},
     "output_type": "execute_result"
    }
   ],
   "source": [
    "type(a)"
   ]
  },
  {
   "cell_type": "code",
   "execution_count": 5,
   "metadata": {},
   "outputs": [
    {
     "data": {
      "text/plain": [
       "int"
      ]
     },
     "execution_count": 5,
     "metadata": {},
     "output_type": "execute_result"
    }
   ],
   "source": [
    "z = type(a)\n",
    "z"
   ]
  },
  {
   "cell_type": "code",
   "execution_count": 6,
   "metadata": {},
   "outputs": [
    {
     "name": "stdout",
     "output_type": "stream",
     "text": [
      "<class 'int'>\n"
     ]
    }
   ],
   "source": [
    "print(type(a))"
   ]
  },
  {
   "cell_type": "code",
   "execution_count": 7,
   "metadata": {},
   "outputs": [
    {
     "data": {
      "text/plain": [
       "int"
      ]
     },
     "execution_count": 7,
     "metadata": {},
     "output_type": "execute_result"
    }
   ],
   "source": [
    "type(-1)"
   ]
  },
  {
   "cell_type": "code",
   "execution_count": 31,
   "metadata": {},
   "outputs": [
    {
     "data": {
      "text/plain": [
       "int"
      ]
     },
     "execution_count": 31,
     "metadata": {},
     "output_type": "execute_result"
    }
   ],
   "source": [
    "type(0)"
   ]
  },
  {
   "cell_type": "code",
   "execution_count": 30,
   "metadata": {},
   "outputs": [
    {
     "name": "stdout",
     "output_type": "stream",
     "text": [
      "<class 'int'>\n"
     ]
    }
   ],
   "source": [
    "a\n",
    "type(a)\n",
    "print(type(a))"
   ]
  },
  {
   "cell_type": "code",
   "execution_count": 13,
   "metadata": {},
   "outputs": [
    {
     "name": "stdout",
     "output_type": "stream",
     "text": [
      "<class 'float'>\n"
     ]
    }
   ],
   "source": [
    "# float\n",
    "b = 1.\n",
    "print(type(b))"
   ]
  },
  {
   "cell_type": "code",
   "execution_count": 14,
   "metadata": {},
   "outputs": [
    {
     "name": "stdout",
     "output_type": "stream",
     "text": [
      "<class 'complex'>\n",
      "(1+2j)\n"
     ]
    },
    {
     "data": {
      "text/plain": [
       "(1+3j)"
      ]
     },
     "execution_count": 14,
     "metadata": {},
     "output_type": "execute_result"
    }
   ],
   "source": [
    "# complex\n",
    "c = 1 + 2j\n",
    "print( type( c ) )\n",
    "print( c )\n",
    "\n",
    "c += 1j\n",
    "c\n",
    "\n",
    "#!!! 그렇다면 'c += j'를 하게 되면?"
   ]
  },
  {
   "attachments": {},
   "cell_type": "markdown",
   "metadata": {},
   "source": [
    "> **Character**: String, Char, Varchar<br>\n",
    "> Character는 문자열을 통칭합니다. 언어나 모듈에 따라 부르는 이름에는 약간의 차이가 있죠. 자연어의 중요성이 점점 더 강조되고 있는 요즈음 반드시 익혀야 하는 타입입니다."
   ]
  },
  {
   "cell_type": "code",
   "execution_count": 15,
   "metadata": {},
   "outputs": [
    {
     "name": "stdout",
     "output_type": "stream",
     "text": [
      "<class 'str'>\n",
      "abcABC\n",
      "abcabcabcABC\n"
     ]
    }
   ],
   "source": [
    "# str\n",
    "d = 'abc'\n",
    "print(type(d))\n",
    "\n",
    "e = 'ABC'\n",
    "\n",
    "print(d + e)\n",
    "\n",
    "print(d * 3 + e)\n",
    "# try 'abc' -> 'aBc'"
   ]
  },
  {
   "cell_type": "code",
   "execution_count": 18,
   "metadata": {},
   "outputs": [
    {
     "name": "stdout",
     "output_type": "stream",
     "text": [
      "str is immutable\n",
      "aBc\n"
     ]
    }
   ],
   "source": [
    "try:\n",
    "    d[1] = 'B' # 변경\n",
    "except TypeError:\n",
    "    print('str is immutable')\n",
    "\n",
    "    \n",
    "# alternative\n",
    "d_new = d[0] + 'B' + d[2]\n",
    "print(d_new)\n",
    "\n",
    "\n"
   ]
  },
  {
   "attachments": {},
   "cell_type": "markdown",
   "metadata": {},
   "source": [
    "> **Logical**: Boolean<br>\n",
    "> Boolean은 유명한 논리학자 부울의 이진 분류법으로, TRUE 및 FALSE에 대한 '상태'를 의미합니다.\n",
    "> 엑셀 함수를 사용해 보신 분들은 vlookup 등 함수 마지막에 TRUE, FALSE 등을 인자로 받는 것을 생각해주시면 되겠네요."
   ]
  },
  {
   "cell_type": "code",
   "execution_count": 66,
   "metadata": {},
   "outputs": [
    {
     "name": "stdout",
     "output_type": "stream",
     "text": [
      "True\n",
      "<class 'bool'>\n",
      "True\n",
      "<class 'str'>\n"
     ]
    }
   ],
   "source": [
    "# bool - True vs. TRUE vs. true vs. \"True\"\n",
    "f = True\n",
    "print(f)\n",
    "print(type(f))\n",
    "\n",
    "g = 'True'\n",
    "print(g)\n",
    "print(type(g))"
   ]
  }
 ],
 "metadata": {
  "kernelspec": {
   "display_name": "Python 3 (ipykernel)",
   "language": "python",
   "name": "python3"
  },
  "language_info": {
   "codemirror_mode": {
    "name": "ipython",
    "version": 3
   },
   "file_extension": ".py",
   "mimetype": "text/x-python",
   "name": "python",
   "nbconvert_exporter": "python",
   "pygments_lexer": "ipython3",
   "version": "3.10.9"
  },
  "toc": {
   "base_numbering": 1,
   "nav_menu": {},
   "number_sections": false,
   "sideBar": true,
   "skip_h1_title": false,
   "title_cell": "Table of Contents",
   "title_sidebar": "Contents",
   "toc_cell": false,
   "toc_position": {},
   "toc_section_display": true,
   "toc_window_display": true
  }
 },
 "nbformat": 4,
 "nbformat_minor": 2
}
